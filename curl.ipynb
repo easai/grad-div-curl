{
 "cells": [
  {
   "cell_type": "code",
   "execution_count": 8,
   "metadata": {},
   "outputs": [
    {
     "data": {
      "text/latex": [
       "$\\displaystyle \\left(- 2 \\mathbf{{y}_{C}}\\right)\\mathbf{\\hat{i}_{C}} + \\left(2 \\mathbf{{z}_{C}}\\right)\\mathbf{\\hat{j}_{C}} + \\left(2 \\mathbf{{x}_{C}}\\right)\\mathbf{\\hat{k}_{C}}$"
      ],
      "text/plain": [
       "(-2*C.y)*C.i + 2*C.z*C.j + 2*C.x*C.k"
      ]
     },
     "execution_count": 8,
     "metadata": {},
     "output_type": "execute_result"
    }
   ],
   "source": [
    "from sympy.vector import CoordSys3D, Del, curl\n",
    "\n",
    "C=CoordSys3D('C')\n",
    "curl(C.z**2*C.i+C.x**2*C.j-C.y**2*C.k)\n"
   ]
  }
 ],
 "metadata": {
  "kernelspec": {
   "display_name": "Python 3",
   "language": "python",
   "name": "python3"
  },
  "language_info": {
   "codemirror_mode": {
    "name": "ipython",
    "version": 3
   },
   "file_extension": ".py",
   "mimetype": "text/x-python",
   "name": "python",
   "nbconvert_exporter": "python",
   "pygments_lexer": "ipython3",
   "version": "3.11.5"
  }
 },
 "nbformat": 4,
 "nbformat_minor": 2
}
