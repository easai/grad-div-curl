{
 "cells": [
  {
   "cell_type": "markdown",
   "metadata": {},
   "source": [
    "# 回転\n",
    "\n",
    "ベクトル解析の分野で回転はベクトル場での回転要素を表します。記号では $\\nabla \\times \\mathbf F$ または $\\operatorname{rot} \\mathbf F$、$\\operatorname{curl} \\mathbf F$ を用います。$\\nabla$ と関数の外積で定義されます。\n",
    "\\begin{align*}\n",
    "\\nabla &= \\left({\\partial\\over \\partial x}, {\\partial\\over \\partial y}, {\\partial\\over \\partial z}\\right)\\\\\n",
    "\\mathbf F &= (F_x, F_y, F_z)\\\\\n",
    "\\nabla \\times \\mathbf F &= \\left({\\partial F_z\\over \\partial y} - {\\partial F_y\\over \\partial z}, {\\partial F_x\\over \\partial z} - {\\partial F_z\\over \\partial x}, {\\partial F_y\\over \\partial x} - {\\partial F_x\\over \\partial y}\\right)\n",
    "\\end{align*}\n",
    "単位ベクトル $\\hat{\\mathbf i}, \\hat{\\mathbf j}, \\hat{\\mathbf k}$ で表すと\n",
    "$$\n",
    "\\nabla \\times \\mathbf F = \\left({\\partial F_z\\over \\partial y} - {\\partial F_y\\over \\partial z}\\right)\\hat{\\mathbf i}+\\left({\\partial F_x\\over \\partial z} - {\\partial F_z\\over \\partial x}\\right)\\hat{\\mathbf i}+\\left({\\partial F_y\\over \\partial x} - {\\partial F_x\\over \\partial y}\\right)\\hat{\\mathbf k}\n",
    "$$\n",
    "計算してみましょう。以下の関数の回転を計算します。\n",
    "\\begin{align*}\n",
    "\\mathbf F &= z^2\\hat{\\mathbf i}+x^2\\hat{\\mathbf j}-y^2\\hat{\\mathbf k}\\\\\n",
    "\\nabla \\times \\mathbf F &=-2y\\hat{\\mathbf i}+2z\\hat{\\mathbf j}+2x\\hat{\\mathbf k}\n",
    "\\end{align*}\n"
   ]
  },
  {
   "cell_type": "code",
   "execution_count": 8,
   "metadata": {},
   "outputs": [
    {
     "data": {
      "text/latex": [
       "$\\displaystyle \\left(- 2 \\mathbf{{y}_{C}}\\right)\\mathbf{\\hat{i}_{C}} + \\left(2 \\mathbf{{z}_{C}}\\right)\\mathbf{\\hat{j}_{C}} + \\left(2 \\mathbf{{x}_{C}}\\right)\\mathbf{\\hat{k}_{C}}$"
      ],
      "text/plain": [
       "(-2*C.y)*C.i + 2*C.z*C.j + 2*C.x*C.k"
      ]
     },
     "execution_count": 8,
     "metadata": {},
     "output_type": "execute_result"
    }
   ],
   "source": [
    "from sympy.vector import CoordSys3D, Del, curl\n",
    "\n",
    "C = CoordSys3D('C')\n",
    "curl(C.z**2*C.i+C.x**2*C.j-C.y**2*C.k)"
   ]
  }
 ],
 "metadata": {
  "kernelspec": {
   "display_name": "Python 3",
   "language": "python",
   "name": "python3"
  },
  "language_info": {
   "codemirror_mode": {
    "name": "ipython",
    "version": 3
   },
   "file_extension": ".py",
   "mimetype": "text/x-python",
   "name": "python",
   "nbconvert_exporter": "python",
   "pygments_lexer": "ipython3",
   "version": "3.11.5"
  }
 },
 "nbformat": 4,
 "nbformat_minor": 2
}
